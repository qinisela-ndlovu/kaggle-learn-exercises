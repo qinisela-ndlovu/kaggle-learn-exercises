{
 "cells": [
  {
   "cell_type": "markdown",
   "id": "3b49939d",
   "metadata": {
    "papermill": {
     "duration": 0.006453,
     "end_time": "2025-06-04T09:00:43.775246",
     "exception": false,
     "start_time": "2025-06-04T09:00:43.768793",
     "status": "completed"
    },
    "tags": []
   },
   "source": [
    "This notebook is based on and adapted from the Kaggle Learn “Intermediate Machine Learning” course.\n",
    "I used the exercise structure and dataset provided by Kaggle as a foundation for exploring missing data and categorical encoding techniques."
   ]
  },
  {
   "cell_type": "code",
   "execution_count": 1,
   "id": "24dc235f",
   "metadata": {
    "execution": {
     "iopub.execute_input": "2025-06-04T09:00:43.787597Z",
     "iopub.status.busy": "2025-06-04T09:00:43.787259Z",
     "iopub.status.idle": "2025-06-04T09:00:45.893358Z",
     "shell.execute_reply": "2025-06-04T09:00:45.892219Z"
    },
    "papermill": {
     "duration": 2.113976,
     "end_time": "2025-06-04T09:00:45.894841",
     "exception": false,
     "start_time": "2025-06-04T09:00:43.780865",
     "status": "completed"
    },
    "tags": []
   },
   "outputs": [
    {
     "name": "stdout",
     "output_type": "stream",
     "text": [
      "Setup Complete\n"
     ]
    }
   ],
   "source": [
    "# Set up code checking\n",
    "import os\n",
    "if not os.path.exists(\"../input/train.csv\"):\n",
    "    os.symlink(\"../input/home-data-for-ml-course/train.csv\", \"../input/train.csv\")  \n",
    "    os.symlink(\"../input/home-data-for-ml-course/test.csv\", \"../input/test.csv\") \n",
    "from learntools.core import binder\n",
    "binder.bind(globals())\n",
    "from learntools.ml_intermediate.ex3 import *\n",
    "print(\"Setup Complete\")"
   ]
  },
  {
   "cell_type": "markdown",
   "id": "1b743fa8",
   "metadata": {
    "papermill": {
     "duration": 0.00534,
     "end_time": "2025-06-04T09:00:45.905745",
     "exception": false,
     "start_time": "2025-06-04T09:00:45.900405",
     "status": "completed"
    },
    "tags": []
   },
   "source": [
    "In this exercise, you will work with data from the [Housing Prices Competition for Kaggle Learn Users](https://www.kaggle.com/c/home-data-for-ml-course). \n",
    "\n",
    "![Ames Housing dataset image](https://storage.googleapis.com/kaggle-media/learn/images/lTJVG4e.png)\n",
    "\n",
    "Load the training and validation sets in `X_train`, `X_valid`, `y_train`, and `y_valid`.  The test set is loaded in `X_test`."
   ]
  },
  {
   "cell_type": "markdown",
   "id": "db1672a8",
   "metadata": {
    "papermill": {
     "duration": 0.005194,
     "end_time": "2025-06-04T09:00:45.916220",
     "exception": false,
     "start_time": "2025-06-04T09:00:45.911026",
     "status": "completed"
    },
    "tags": []
   },
   "source": [
    "- The following code is from the exercise, no modifications were needed from me"
   ]
  },
  {
   "cell_type": "code",
   "execution_count": 2,
   "id": "f0b1d4b0",
   "metadata": {
    "execution": {
     "iopub.execute_input": "2025-06-04T09:00:45.928700Z",
     "iopub.status.busy": "2025-06-04T09:00:45.927999Z",
     "iopub.status.idle": "2025-06-04T09:00:47.801719Z",
     "shell.execute_reply": "2025-06-04T09:00:47.800939Z"
    },
    "papermill": {
     "duration": 1.881917,
     "end_time": "2025-06-04T09:00:47.803318",
     "exception": false,
     "start_time": "2025-06-04T09:00:45.921401",
     "status": "completed"
    },
    "tags": []
   },
   "outputs": [],
   "source": [
    "import pandas as pd\n",
    "from sklearn.model_selection import train_test_split\n",
    "\n",
    "# Read the data\n",
    "X = pd.read_csv('../input/train.csv', index_col='Id') \n",
    "X_test = pd.read_csv('../input/test.csv', index_col='Id')\n",
    "\n",
    "# Remove rows with missing target, separate target from predictors\n",
    "X.dropna(axis=0, subset=['SalePrice'], inplace=True)\n",
    "y = X.SalePrice\n",
    "X.drop(['SalePrice'], axis=1, inplace=True)\n",
    "\n",
    "# To keep things simple, we'll drop columns with missing values\n",
    "cols_with_missing = [col for col in X.columns if X[col].isnull().any()] \n",
    "X.drop(cols_with_missing, axis=1, inplace=True)\n",
    "X_test.drop(cols_with_missing, axis=1, inplace=True)\n",
    "\n",
    "# Break off validation set from training data\n",
    "X_train, X_valid, y_train, y_valid = train_test_split(X, y,\n",
    "                                                      train_size=0.8, test_size=0.2,\n",
    "                                                      random_state=0)"
   ]
  },
  {
   "cell_type": "code",
   "execution_count": 3,
   "id": "718c0f7c",
   "metadata": {
    "execution": {
     "iopub.execute_input": "2025-06-04T09:00:47.816077Z",
     "iopub.status.busy": "2025-06-04T09:00:47.815421Z",
     "iopub.status.idle": "2025-06-04T09:00:47.844507Z",
     "shell.execute_reply": "2025-06-04T09:00:47.843627Z"
    },
    "papermill": {
     "duration": 0.037164,
     "end_time": "2025-06-04T09:00:47.845974",
     "exception": false,
     "start_time": "2025-06-04T09:00:47.808810",
     "status": "completed"
    },
    "tags": []
   },
   "outputs": [
    {
     "data": {
      "text/html": [
       "<div>\n",
       "<style scoped>\n",
       "    .dataframe tbody tr th:only-of-type {\n",
       "        vertical-align: middle;\n",
       "    }\n",
       "\n",
       "    .dataframe tbody tr th {\n",
       "        vertical-align: top;\n",
       "    }\n",
       "\n",
       "    .dataframe thead th {\n",
       "        text-align: right;\n",
       "    }\n",
       "</style>\n",
       "<table border=\"1\" class=\"dataframe\">\n",
       "  <thead>\n",
       "    <tr style=\"text-align: right;\">\n",
       "      <th></th>\n",
       "      <th>MSSubClass</th>\n",
       "      <th>MSZoning</th>\n",
       "      <th>LotArea</th>\n",
       "      <th>Street</th>\n",
       "      <th>LotShape</th>\n",
       "      <th>LandContour</th>\n",
       "      <th>Utilities</th>\n",
       "      <th>LotConfig</th>\n",
       "      <th>LandSlope</th>\n",
       "      <th>Neighborhood</th>\n",
       "      <th>...</th>\n",
       "      <th>OpenPorchSF</th>\n",
       "      <th>EnclosedPorch</th>\n",
       "      <th>3SsnPorch</th>\n",
       "      <th>ScreenPorch</th>\n",
       "      <th>PoolArea</th>\n",
       "      <th>MiscVal</th>\n",
       "      <th>MoSold</th>\n",
       "      <th>YrSold</th>\n",
       "      <th>SaleType</th>\n",
       "      <th>SaleCondition</th>\n",
       "    </tr>\n",
       "    <tr>\n",
       "      <th>Id</th>\n",
       "      <th></th>\n",
       "      <th></th>\n",
       "      <th></th>\n",
       "      <th></th>\n",
       "      <th></th>\n",
       "      <th></th>\n",
       "      <th></th>\n",
       "      <th></th>\n",
       "      <th></th>\n",
       "      <th></th>\n",
       "      <th></th>\n",
       "      <th></th>\n",
       "      <th></th>\n",
       "      <th></th>\n",
       "      <th></th>\n",
       "      <th></th>\n",
       "      <th></th>\n",
       "      <th></th>\n",
       "      <th></th>\n",
       "      <th></th>\n",
       "      <th></th>\n",
       "    </tr>\n",
       "  </thead>\n",
       "  <tbody>\n",
       "    <tr>\n",
       "      <th>619</th>\n",
       "      <td>20</td>\n",
       "      <td>RL</td>\n",
       "      <td>11694</td>\n",
       "      <td>Pave</td>\n",
       "      <td>Reg</td>\n",
       "      <td>Lvl</td>\n",
       "      <td>AllPub</td>\n",
       "      <td>Inside</td>\n",
       "      <td>Gtl</td>\n",
       "      <td>NridgHt</td>\n",
       "      <td>...</td>\n",
       "      <td>108</td>\n",
       "      <td>0</td>\n",
       "      <td>0</td>\n",
       "      <td>260</td>\n",
       "      <td>0</td>\n",
       "      <td>0</td>\n",
       "      <td>7</td>\n",
       "      <td>2007</td>\n",
       "      <td>New</td>\n",
       "      <td>Partial</td>\n",
       "    </tr>\n",
       "    <tr>\n",
       "      <th>871</th>\n",
       "      <td>20</td>\n",
       "      <td>RL</td>\n",
       "      <td>6600</td>\n",
       "      <td>Pave</td>\n",
       "      <td>Reg</td>\n",
       "      <td>Lvl</td>\n",
       "      <td>AllPub</td>\n",
       "      <td>Inside</td>\n",
       "      <td>Gtl</td>\n",
       "      <td>NAmes</td>\n",
       "      <td>...</td>\n",
       "      <td>0</td>\n",
       "      <td>0</td>\n",
       "      <td>0</td>\n",
       "      <td>0</td>\n",
       "      <td>0</td>\n",
       "      <td>0</td>\n",
       "      <td>8</td>\n",
       "      <td>2009</td>\n",
       "      <td>WD</td>\n",
       "      <td>Normal</td>\n",
       "    </tr>\n",
       "    <tr>\n",
       "      <th>93</th>\n",
       "      <td>30</td>\n",
       "      <td>RL</td>\n",
       "      <td>13360</td>\n",
       "      <td>Pave</td>\n",
       "      <td>IR1</td>\n",
       "      <td>HLS</td>\n",
       "      <td>AllPub</td>\n",
       "      <td>Inside</td>\n",
       "      <td>Gtl</td>\n",
       "      <td>Crawfor</td>\n",
       "      <td>...</td>\n",
       "      <td>0</td>\n",
       "      <td>44</td>\n",
       "      <td>0</td>\n",
       "      <td>0</td>\n",
       "      <td>0</td>\n",
       "      <td>0</td>\n",
       "      <td>8</td>\n",
       "      <td>2009</td>\n",
       "      <td>WD</td>\n",
       "      <td>Normal</td>\n",
       "    </tr>\n",
       "    <tr>\n",
       "      <th>818</th>\n",
       "      <td>20</td>\n",
       "      <td>RL</td>\n",
       "      <td>13265</td>\n",
       "      <td>Pave</td>\n",
       "      <td>IR1</td>\n",
       "      <td>Lvl</td>\n",
       "      <td>AllPub</td>\n",
       "      <td>CulDSac</td>\n",
       "      <td>Gtl</td>\n",
       "      <td>Mitchel</td>\n",
       "      <td>...</td>\n",
       "      <td>59</td>\n",
       "      <td>0</td>\n",
       "      <td>0</td>\n",
       "      <td>0</td>\n",
       "      <td>0</td>\n",
       "      <td>0</td>\n",
       "      <td>7</td>\n",
       "      <td>2008</td>\n",
       "      <td>WD</td>\n",
       "      <td>Normal</td>\n",
       "    </tr>\n",
       "    <tr>\n",
       "      <th>303</th>\n",
       "      <td>20</td>\n",
       "      <td>RL</td>\n",
       "      <td>13704</td>\n",
       "      <td>Pave</td>\n",
       "      <td>IR1</td>\n",
       "      <td>Lvl</td>\n",
       "      <td>AllPub</td>\n",
       "      <td>Corner</td>\n",
       "      <td>Gtl</td>\n",
       "      <td>CollgCr</td>\n",
       "      <td>...</td>\n",
       "      <td>81</td>\n",
       "      <td>0</td>\n",
       "      <td>0</td>\n",
       "      <td>0</td>\n",
       "      <td>0</td>\n",
       "      <td>0</td>\n",
       "      <td>1</td>\n",
       "      <td>2006</td>\n",
       "      <td>WD</td>\n",
       "      <td>Normal</td>\n",
       "    </tr>\n",
       "  </tbody>\n",
       "</table>\n",
       "<p>5 rows × 60 columns</p>\n",
       "</div>"
      ],
      "text/plain": [
       "     MSSubClass MSZoning  LotArea Street LotShape LandContour Utilities  \\\n",
       "Id                                                                        \n",
       "619          20       RL    11694   Pave      Reg         Lvl    AllPub   \n",
       "871          20       RL     6600   Pave      Reg         Lvl    AllPub   \n",
       "93           30       RL    13360   Pave      IR1         HLS    AllPub   \n",
       "818          20       RL    13265   Pave      IR1         Lvl    AllPub   \n",
       "303          20       RL    13704   Pave      IR1         Lvl    AllPub   \n",
       "\n",
       "    LotConfig LandSlope Neighborhood  ... OpenPorchSF EnclosedPorch 3SsnPorch  \\\n",
       "Id                                    ...                                       \n",
       "619    Inside       Gtl      NridgHt  ...         108             0         0   \n",
       "871    Inside       Gtl        NAmes  ...           0             0         0   \n",
       "93     Inside       Gtl      Crawfor  ...           0            44         0   \n",
       "818   CulDSac       Gtl      Mitchel  ...          59             0         0   \n",
       "303    Corner       Gtl      CollgCr  ...          81             0         0   \n",
       "\n",
       "    ScreenPorch  PoolArea  MiscVal  MoSold  YrSold SaleType SaleCondition  \n",
       "Id                                                                         \n",
       "619         260         0        0       7    2007      New       Partial  \n",
       "871           0         0        0       8    2009       WD        Normal  \n",
       "93            0         0        0       8    2009       WD        Normal  \n",
       "818           0         0        0       7    2008       WD        Normal  \n",
       "303           0         0        0       1    2006       WD        Normal  \n",
       "\n",
       "[5 rows x 60 columns]"
      ]
     },
     "execution_count": 3,
     "metadata": {},
     "output_type": "execute_result"
    }
   ],
   "source": [
    "X_train.head()"
   ]
  },
  {
   "cell_type": "markdown",
   "id": "ace8b013",
   "metadata": {
    "papermill": {
     "duration": 0.005708,
     "end_time": "2025-06-04T09:00:47.857525",
     "exception": false,
     "start_time": "2025-06-04T09:00:47.851817",
     "status": "completed"
    },
    "tags": []
   },
   "source": [
    "Notice that the dataset contains both numerical and categorical variables.  Encode the categorical data before training a model.\n",
    "\n",
    "To compare different models, you'll use the same `evaluate_model_with_mae()` function from the previous exercise,handling missing values.  This function reports the [mean absolute error](https://en.wikipedia.org/wiki/Mean_absolute_error) (MAE) from a random forest model."
   ]
  },
  {
   "cell_type": "code",
   "execution_count": 4,
   "id": "2cc903e0",
   "metadata": {
    "execution": {
     "iopub.execute_input": "2025-06-04T09:00:47.870534Z",
     "iopub.status.busy": "2025-06-04T09:00:47.870215Z",
     "iopub.status.idle": "2025-06-04T09:00:48.313396Z",
     "shell.execute_reply": "2025-06-04T09:00:48.312431Z"
    },
    "papermill": {
     "duration": 0.451853,
     "end_time": "2025-06-04T09:00:48.315227",
     "exception": false,
     "start_time": "2025-06-04T09:00:47.863374",
     "status": "completed"
    },
    "tags": []
   },
   "outputs": [],
   "source": [
    "from sklearn.ensemble import RandomForestRegressor\n",
    "from sklearn.metrics import mean_absolute_error\n",
    "\n",
    "# Trains a Random Forest model and evaluates it using Mean Absolute Error\n",
    "def evaluate_model_with_mae(X_train, X_valid, y_train, y_valid):\n",
    "    model = RandomForestRegressor(n_estimators=100, random_state=0)\n",
    "    model.fit(X_train, y_train)\n",
    "    preds = model.predict(X_valid)\n",
    "    return mean_absolute_error(y_valid, preds)"
   ]
  },
  {
   "cell_type": "markdown",
   "id": "142b5eb7",
   "metadata": {
    "papermill": {
     "duration": 0.005495,
     "end_time": "2025-06-04T09:00:48.326694",
     "exception": false,
     "start_time": "2025-06-04T09:00:48.321199",
     "status": "completed"
    },
    "tags": []
   },
   "source": [
    "Adapted from Kaggle learn: Categorical Variables_"
   ]
  },
  {
   "cell_type": "markdown",
   "id": "22f417c9",
   "metadata": {
    "papermill": {
     "duration": 0.005419,
     "end_time": "2025-06-04T09:00:48.337788",
     "exception": false,
     "start_time": "2025-06-04T09:00:48.332369",
     "status": "completed"
    },
    "tags": []
   },
   "source": [
    "# Step 1: Drop columns with categorical data\n",
    "\n",
    "Preprocess the data in `X_train` and `X_valid` to remove columns with categorical data.  Set the preprocessed DataFrames to `drop_X_train` and `drop_X_valid`, respectively.  "
   ]
  },
  {
   "cell_type": "code",
   "execution_count": 5,
   "id": "a6075279",
   "metadata": {
    "execution": {
     "iopub.execute_input": "2025-06-04T09:00:48.350582Z",
     "iopub.status.busy": "2025-06-04T09:00:48.350246Z",
     "iopub.status.idle": "2025-06-04T09:00:48.355929Z",
     "shell.execute_reply": "2025-06-04T09:00:48.355204Z"
    },
    "papermill": {
     "duration": 0.013912,
     "end_time": "2025-06-04T09:00:48.357249",
     "exception": false,
     "start_time": "2025-06-04T09:00:48.343337",
     "status": "completed"
    },
    "tags": []
   },
   "outputs": [],
   "source": [
    "# Fill in the lines below: drop columns in training and validation data - cat variables\n",
    "drop_X_train = X_train.select_dtypes(exclude=['object'])\n",
    "drop_X_valid = X_valid.select_dtypes(exclude=['object'])\n"
   ]
  },
  {
   "cell_type": "markdown",
   "id": "6d73f4e2",
   "metadata": {
    "papermill": {
     "duration": 0.005372,
     "end_time": "2025-06-04T09:00:48.368397",
     "exception": false,
     "start_time": "2025-06-04T09:00:48.363025",
     "status": "completed"
    },
    "tags": []
   },
   "source": [
    "Print the MAE for this approach"
   ]
  },
  {
   "cell_type": "code",
   "execution_count": 6,
   "id": "61b67607",
   "metadata": {
    "execution": {
     "iopub.execute_input": "2025-06-04T09:00:48.380800Z",
     "iopub.status.busy": "2025-06-04T09:00:48.380259Z",
     "iopub.status.idle": "2025-06-04T09:00:49.736926Z",
     "shell.execute_reply": "2025-06-04T09:00:49.735924Z"
    },
    "papermill": {
     "duration": 1.364441,
     "end_time": "2025-06-04T09:00:49.738404",
     "exception": false,
     "start_time": "2025-06-04T09:00:48.373963",
     "status": "completed"
    },
    "tags": []
   },
   "outputs": [
    {
     "name": "stdout",
     "output_type": "stream",
     "text": [
      "MAE from Approach 1 (Drop categorical variables):\n",
      "17837.82570776256\n"
     ]
    }
   ],
   "source": [
    "print(\"MAE from Approach 1 (Drop categorical variables):\")\n",
    "print(evaluate_model_with_mae(drop_X_train, drop_X_valid, y_train, y_valid))"
   ]
  },
  {
   "cell_type": "markdown",
   "id": "4a7451b3",
   "metadata": {
    "papermill": {
     "duration": 0.006128,
     "end_time": "2025-06-04T09:00:49.750636",
     "exception": false,
     "start_time": "2025-06-04T09:00:49.744508",
     "status": "completed"
    },
    "tags": []
   },
   "source": [
    "Before jumping into ordinal encoding, we'll investigate the dataset.  Specifically, we'll look at the `'Condition2'` column.  The code cell below prints the unique entries in both the training and validation sets."
   ]
  },
  {
   "cell_type": "code",
   "execution_count": 7,
   "id": "c803adab",
   "metadata": {
    "execution": {
     "iopub.execute_input": "2025-06-04T09:00:49.763789Z",
     "iopub.status.busy": "2025-06-04T09:00:49.763393Z",
     "iopub.status.idle": "2025-06-04T09:00:49.771848Z",
     "shell.execute_reply": "2025-06-04T09:00:49.770858Z"
    },
    "papermill": {
     "duration": 0.017014,
     "end_time": "2025-06-04T09:00:49.773562",
     "exception": false,
     "start_time": "2025-06-04T09:00:49.756548",
     "status": "completed"
    },
    "tags": []
   },
   "outputs": [
    {
     "name": "stdout",
     "output_type": "stream",
     "text": [
      "Unique values in 'Condition2' column in training data: ['Norm' 'PosA' 'Feedr' 'PosN' 'Artery' 'RRAe']\n",
      "\n",
      "Unique values in 'Condition2' column in validation data: ['Norm' 'RRAn' 'RRNn' 'Artery' 'Feedr' 'PosN']\n"
     ]
    }
   ],
   "source": [
    "print(\"Unique values in 'Condition2' column in training data:\", X_train['Condition2'].unique())\n",
    "print(\"\\nUnique values in 'Condition2' column in validation data:\", X_valid['Condition2'].unique())"
   ]
  },
  {
   "cell_type": "markdown",
   "id": "21322adb",
   "metadata": {
    "papermill": {
     "duration": 0.006961,
     "end_time": "2025-06-04T09:00:49.791452",
     "exception": false,
     "start_time": "2025-06-04T09:00:49.784491",
     "status": "completed"
    },
    "tags": []
   },
   "source": [
    "- Above, Adapted from Kaggle learn_"
   ]
  },
  {
   "cell_type": "markdown",
   "id": "240aaf39",
   "metadata": {
    "papermill": {
     "duration": 0.00584,
     "end_time": "2025-06-04T09:00:49.803448",
     "exception": false,
     "start_time": "2025-06-04T09:00:49.797608",
     "status": "completed"
    },
    "tags": []
   },
   "source": [
    "## Step 2: Ordinal Encoding\n",
    "\n",
    "### Handling Issues with Unseen Categories\n",
    "\n",
    "When fitting an `OrdinalEncoder` on the training data and transforming the validation data, an error can occur if the validation set contains categories not present in the training set. \n",
    "\n",
    "This is because the `OrdinalEncoder` by default does not know how to handle unseen categories, and will raise a `ValueError`. For instance, if a categorical feature includes a new category like `\"Purple\"` in the validation set that wasn't present during fitting, the encoder won't know how to process it.\n",
    "\n",
    "A solution is to use the `handle_unknown='use_encoded_value'` parameter along with `unknown_value=-1` to encode such categories explicitly.\n"
   ]
  },
  {
   "cell_type": "markdown",
   "id": "4a203c14",
   "metadata": {
    "papermill": {
     "duration": 0.005776,
     "end_time": "2025-06-04T09:00:49.815157",
     "exception": false,
     "start_time": "2025-06-04T09:00:49.809381",
     "status": "completed"
    },
    "tags": []
   },
   "source": [
    "## Identifying Categorical Columns for Encoding\n",
    "\n",
    "In real-world datasets, it's common for categorical variables in the validation or test set to include categories not seen during training. This causes issues with encoders like `OrdinalEncoder`, which by default cannot handle unknown categories.\n",
    "\n",
    "There are multiple ways to address this:\n",
    "- Implementing a custom encoder that gracefully handles unseen values\n",
    "- Using encoding methods that can ignore unknowns (e.g., one-hot encoding with `handle_unknown='ignore'`)\n",
    "- Dropping problematic columns altogether (a simple and effective approach)\n",
    "\n",
    "In this step, we identify:\n",
    "- `bad_label_cols`: categorical columns that contain values in the validation set not present in the training set (unsafe for ordinal encoding)\n",
    "- `good_label_cols`:categorical columns that can be safely ordinal encoded\n"
   ]
  },
  {
   "cell_type": "code",
   "execution_count": 8,
   "id": "367f54ab",
   "metadata": {
    "execution": {
     "iopub.execute_input": "2025-06-04T09:00:49.828958Z",
     "iopub.status.busy": "2025-06-04T09:00:49.828139Z",
     "iopub.status.idle": "2025-06-04T09:00:49.845273Z",
     "shell.execute_reply": "2025-06-04T09:00:49.844308Z"
    },
    "papermill": {
     "duration": 0.025956,
     "end_time": "2025-06-04T09:00:49.847058",
     "exception": false,
     "start_time": "2025-06-04T09:00:49.821102",
     "status": "completed"
    },
    "tags": []
   },
   "outputs": [
    {
     "name": "stdout",
     "output_type": "stream",
     "text": [
      "Categorical columns that will be ordinal encoded: ['MSZoning', 'Street', 'LotShape', 'LandContour', 'Utilities', 'LotConfig', 'LandSlope', 'Neighborhood', 'Condition1', 'BldgType', 'HouseStyle', 'RoofStyle', 'Exterior1st', 'Exterior2nd', 'ExterQual', 'ExterCond', 'Foundation', 'Heating', 'HeatingQC', 'CentralAir', 'KitchenQual', 'PavedDrive', 'SaleType', 'SaleCondition']\n",
      "\n",
      "Categorical columns that will be dropped from the dataset: ['Condition2', 'Functional', 'RoofMatl']\n"
     ]
    }
   ],
   "source": [
    "# Categorical columns in the training data\n",
    "object_cols = [col for col in X_train.columns if X_train[col].dtype == \"object\"]\n",
    "\n",
    "# Columns that can be safely ordinal encoded\n",
    "good_label_cols = [col for col in object_cols if \n",
    "                   set(X_valid[col]).issubset(set(X_train[col]))]\n",
    "        \n",
    "# Problematic columns that will be dropped from the dataset\n",
    "bad_label_cols = list(set(object_cols)-set(good_label_cols))\n",
    "        \n",
    "print('Categorical columns that will be ordinal encoded:', good_label_cols)\n",
    "print('\\nCategorical columns that will be dropped from the dataset:', bad_label_cols)"
   ]
  },
  {
   "cell_type": "markdown",
   "id": "1cb410c9",
   "metadata": {
    "papermill": {
     "duration": 0.006645,
     "end_time": "2025-06-04T09:00:49.864773",
     "exception": false,
     "start_time": "2025-06-04T09:00:49.858128",
     "status": "completed"
    },
    "tags": []
   },
   "source": [
    "## Ordinal Encoding of Safe Categorical Columns\n",
    "\n",
    "In this step, we preprocess the data by applying ordinal encoding to only those categorical columns that are safe to encode — that is, columns where all categories present in the validation set also exist in the training set (`good_label_cols`).\n",
    "\n",
    "The remaining categorical columns (`bad_label_cols`) are excluded from the dataset to prevent errors caused by unseen categories.\n",
    "\n",
    "The resulting preprocessed datasets are stored in:\n",
    "- `label_X_train`: the training set with ordinal encoding applied to safe categorical features\n",
    "- `label_X_valid`: the validation set encoded using the same mapping\n"
   ]
  },
  {
   "cell_type": "code",
   "execution_count": 9,
   "id": "8ffd196b",
   "metadata": {
    "execution": {
     "iopub.execute_input": "2025-06-04T09:00:49.878908Z",
     "iopub.status.busy": "2025-06-04T09:00:49.878511Z",
     "iopub.status.idle": "2025-06-04T09:00:49.920153Z",
     "shell.execute_reply": "2025-06-04T09:00:49.919115Z"
    },
    "papermill": {
     "duration": 0.05035,
     "end_time": "2025-06-04T09:00:49.921752",
     "exception": false,
     "start_time": "2025-06-04T09:00:49.871402",
     "status": "completed"
    },
    "tags": []
   },
   "outputs": [],
   "source": [
    "from sklearn.preprocessing import OrdinalEncoder\n",
    "\n",
    "# Drop problematic columns\n",
    "label_X_train = X_train.drop(bad_label_cols, axis=1)\n",
    "label_X_valid = X_valid.drop(bad_label_cols, axis=1)\n",
    "\n",
    "# Apply ordinal encoding to safe categorical columns\n",
    "ordinal_encoder = OrdinalEncoder()\n",
    "label_X_train[good_label_cols] = ordinal_encoder.fit_transform(label_X_train[good_label_cols])\n",
    "label_X_valid[good_label_cols] = ordinal_encoder.transform(label_X_valid[good_label_cols])"
   ]
  },
  {
   "cell_type": "markdown",
   "id": "7e5c4b12",
   "metadata": {
    "papermill": {
     "duration": 0.006201,
     "end_time": "2025-06-04T09:00:49.934220",
     "exception": false,
     "start_time": "2025-06-04T09:00:49.928019",
     "status": "completed"
    },
    "tags": []
   },
   "source": [
    "Get MAE for the 2nd approach:"
   ]
  },
  {
   "cell_type": "code",
   "execution_count": 10,
   "id": "80ea1fba",
   "metadata": {
    "execution": {
     "iopub.execute_input": "2025-06-04T09:00:49.948360Z",
     "iopub.status.busy": "2025-06-04T09:00:49.947377Z",
     "iopub.status.idle": "2025-06-04T09:00:51.501132Z",
     "shell.execute_reply": "2025-06-04T09:00:51.500020Z"
    },
    "papermill": {
     "duration": 1.563059,
     "end_time": "2025-06-04T09:00:51.503361",
     "exception": false,
     "start_time": "2025-06-04T09:00:49.940302",
     "status": "completed"
    },
    "tags": []
   },
   "outputs": [
    {
     "name": "stdout",
     "output_type": "stream",
     "text": [
      "MAE from Approach 2 (Ordinal Encoding):\n",
      "17098.01649543379\n"
     ]
    }
   ],
   "source": [
    "print(\"MAE from Approach 2 (Ordinal Encoding):\") \n",
    "print(evaluate_model_with_mae(label_X_train, label_X_valid, y_train, y_valid))"
   ]
  },
  {
   "cell_type": "markdown",
   "id": "a2c5fbf1",
   "metadata": {
    "papermill": {
     "duration": 0.006739,
     "end_time": "2025-06-04T09:00:51.517154",
     "exception": false,
     "start_time": "2025-06-04T09:00:51.510415",
     "status": "completed"
    },
    "tags": []
   },
   "source": [
    "## Comparing Categorical Data Handling Strategies\n",
    "\n",
    "At this point, two strategies have been evaluated for handling categorical variables:\n",
    "\n",
    "1. **Dropping categorical columns** with missing or problematic values\n",
    "2. **Ordinal encoding** for safe categorical features\n",
    "\n",
    "The results demonstrate that **encoding categorical variables generally produces better model performance** than simply removing them.\n",
    "\n",
    "Next, we'll explore a more flexible and commonly used method: **one-hot encoding**. Before diving into that, however, there’s one more important concept to address.\n"
   ]
  },
  {
   "cell_type": "markdown",
   "id": "34f17257",
   "metadata": {
    "papermill": {
     "duration": 0.005902,
     "end_time": "2025-06-04T09:00:51.529600",
     "exception": false,
     "start_time": "2025-06-04T09:00:51.523698",
     "status": "completed"
    },
    "tags": []
   },
   "source": [
    "- Unmodified cell from Kaggle"
   ]
  },
  {
   "cell_type": "code",
   "execution_count": 11,
   "id": "df4887ad",
   "metadata": {
    "execution": {
     "iopub.execute_input": "2025-06-04T09:00:51.542952Z",
     "iopub.status.busy": "2025-06-04T09:00:51.542631Z",
     "iopub.status.idle": "2025-06-04T09:00:51.553400Z",
     "shell.execute_reply": "2025-06-04T09:00:51.552496Z"
    },
    "papermill": {
     "duration": 0.019208,
     "end_time": "2025-06-04T09:00:51.554837",
     "exception": false,
     "start_time": "2025-06-04T09:00:51.535629",
     "status": "completed"
    },
    "tags": []
   },
   "outputs": [
    {
     "data": {
      "text/plain": [
       "[('Street', 2),\n",
       " ('Utilities', 2),\n",
       " ('CentralAir', 2),\n",
       " ('LandSlope', 3),\n",
       " ('PavedDrive', 3),\n",
       " ('LotShape', 4),\n",
       " ('LandContour', 4),\n",
       " ('ExterQual', 4),\n",
       " ('KitchenQual', 4),\n",
       " ('MSZoning', 5),\n",
       " ('LotConfig', 5),\n",
       " ('BldgType', 5),\n",
       " ('ExterCond', 5),\n",
       " ('HeatingQC', 5),\n",
       " ('Condition2', 6),\n",
       " ('RoofStyle', 6),\n",
       " ('Foundation', 6),\n",
       " ('Heating', 6),\n",
       " ('Functional', 6),\n",
       " ('SaleCondition', 6),\n",
       " ('RoofMatl', 7),\n",
       " ('HouseStyle', 8),\n",
       " ('Condition1', 9),\n",
       " ('SaleType', 9),\n",
       " ('Exterior1st', 15),\n",
       " ('Exterior2nd', 16),\n",
       " ('Neighborhood', 25)]"
      ]
     },
     "execution_count": 11,
     "metadata": {},
     "output_type": "execute_result"
    }
   ],
   "source": [
    "# Get number of unique entries in each column with categorical data\n",
    "object_nunique = list(map(lambda col: X_train[col].nunique(), object_cols))\n",
    "d = dict(zip(object_cols, object_nunique))\n",
    "\n",
    "# Print number of unique entries by column, in ascending order\n",
    "sorted(d.items(), key=lambda x: x[1])"
   ]
  },
  {
   "cell_type": "markdown",
   "id": "19e02866",
   "metadata": {
    "papermill": {
     "duration": 0.005951,
     "end_time": "2025-06-04T09:00:51.567117",
     "exception": false,
     "start_time": "2025-06-04T09:00:51.561166",
     "status": "completed"
    },
    "tags": []
   },
   "source": [
    "# Step 3: Investigating cardinality\n",
    "\n",
    "### Part A\n",
    "\n",
    "The output above shows, for each column with categorical data, the number of unique values in the column.  For instance, the `'Street'` column in the training data has two unique values: `'Grvl'` and `'Pave'`, corresponding to a gravel road and a paved road, respectively.\n",
    "\n",
    "We refer to the number of unique entries of a categorical variable as the **cardinality** of that categorical variable.  For instance, the `'Street'` variable has cardinality 2.\n"
   ]
  },
  {
   "cell_type": "code",
   "execution_count": 12,
   "id": "3128b339",
   "metadata": {
    "execution": {
     "iopub.execute_input": "2025-06-04T09:00:51.580538Z",
     "iopub.status.busy": "2025-06-04T09:00:51.580229Z",
     "iopub.status.idle": "2025-06-04T09:00:51.584800Z",
     "shell.execute_reply": "2025-06-04T09:00:51.583935Z"
    },
    "papermill": {
     "duration": 0.013147,
     "end_time": "2025-06-04T09:00:51.586302",
     "exception": false,
     "start_time": "2025-06-04T09:00:51.573155",
     "status": "completed"
    },
    "tags": []
   },
   "outputs": [],
   "source": [
    "# How many categorical variables in the training data\n",
    "# have cardinality greater than 10?\n",
    "high_cardinality_numcols = 3\n",
    "\n",
    "# How many columns are needed to one-hot encode the \n",
    "# 'Neighborhood' variable in the training data?\n",
    "num_cols_neighborhood = 25"
   ]
  },
  {
   "cell_type": "markdown",
   "id": "58bc8b12",
   "metadata": {
    "papermill": {
     "duration": 0.006035,
     "end_time": "2025-06-04T09:00:51.599124",
     "exception": false,
     "start_time": "2025-06-04T09:00:51.593089",
     "status": "completed"
    },
    "tags": []
   },
   "source": [
    "## Part B: Impact of Encoding on Dataset Size\n",
    "\n",
    "One-hot encoding can significantly increase the dimensionality of a dataset, especially when applied to categorical columns with high cardinality (many unique values). This expansion can affect computational efficiency and model performance.\n",
    "\n",
    "Therefore, it is common practice to:\n",
    "- One-hot encode only categorical features with **low cardinality**, to avoid a large increase in features.\n",
    "- For **high cardinality** columns, either drop them or use ordinal encoding as a more compact alternative.\n",
    "\n",
    "**Example:**  \n",
    "Consider a dataset with 10,000 rows and a categorical column that contains 100 unique categories.\n",
    "\n",
    "- When one-hot encoding this column, the dataset will gain **100 new feature columns**, each representing one category.\n",
    "- When using ordinal encoding, the dataset will gain only **1 new feature column**, since each category is mapped to a unique integer.\n",
    "\n",
    "Below, compute the total number of entries added to the dataset in each encoding scenario.\n"
   ]
  },
  {
   "cell_type": "code",
   "execution_count": 13,
   "id": "f628882b",
   "metadata": {
    "execution": {
     "iopub.execute_input": "2025-06-04T09:00:51.613799Z",
     "iopub.status.busy": "2025-06-04T09:00:51.613477Z",
     "iopub.status.idle": "2025-06-04T09:00:51.617926Z",
     "shell.execute_reply": "2025-06-04T09:00:51.617075Z"
    },
    "papermill": {
     "duration": 0.013193,
     "end_time": "2025-06-04T09:00:51.619432",
     "exception": false,
     "start_time": "2025-06-04T09:00:51.606239",
     "status": "completed"
    },
    "tags": []
   },
   "outputs": [],
   "source": [
    "#How many entries are added to the dataset by \n",
    "# replacing the column with a one-hot encoding?\n",
    "OH_entries_added = 990000\n",
    "\n",
    "# How many entries are added to the dataset by\n",
    "# replacing the column with an ordinal encoding?\n",
    "label_entries_added = 0"
   ]
  },
  {
   "cell_type": "markdown",
   "id": "2f2da129",
   "metadata": {
    "papermill": {
     "duration": 0.005827,
     "end_time": "2025-06-04T09:00:51.631623",
     "exception": false,
     "start_time": "2025-06-04T09:00:51.625796",
     "status": "completed"
    },
    "tags": []
   },
   "source": [
    "## Selecting Columns for One-Hot Encoding\n",
    "\n",
    "One-hot encoding can lead to a large number of new features when applied to high-cardinality categorical columns. To manage this, we focus on encoding only those categorical columns with **low cardinality** (fewer than 10 unique categories). \n",
    "\n",
    "- `low_cardinality_cols` will store the list of columns selected for one-hot encoding.\n",
    "- `high_cardinality_cols` will contain categorical columns with high cardinality that will be dropped to avoid dimensionality explosion.\n",
    "\n",
    "The code below identifies these columns accordingly.\n"
   ]
  },
  {
   "cell_type": "code",
   "execution_count": 14,
   "id": "72bb4b70",
   "metadata": {
    "execution": {
     "iopub.execute_input": "2025-06-04T09:00:51.645322Z",
     "iopub.status.busy": "2025-06-04T09:00:51.644567Z",
     "iopub.status.idle": "2025-06-04T09:00:51.653974Z",
     "shell.execute_reply": "2025-06-04T09:00:51.653012Z"
    },
    "papermill": {
     "duration": 0.017573,
     "end_time": "2025-06-04T09:00:51.655258",
     "exception": false,
     "start_time": "2025-06-04T09:00:51.637685",
     "status": "completed"
    },
    "tags": []
   },
   "outputs": [
    {
     "name": "stdout",
     "output_type": "stream",
     "text": [
      "Categorical columns that will be one-hot encoded: ['MSZoning', 'Street', 'LotShape', 'LandContour', 'Utilities', 'LotConfig', 'LandSlope', 'Condition1', 'Condition2', 'BldgType', 'HouseStyle', 'RoofStyle', 'RoofMatl', 'ExterQual', 'ExterCond', 'Foundation', 'Heating', 'HeatingQC', 'CentralAir', 'KitchenQual', 'Functional', 'PavedDrive', 'SaleType', 'SaleCondition']\n",
      "\n",
      "Categorical columns that will be dropped from the dataset: ['Exterior1st', 'Exterior2nd', 'Neighborhood']\n"
     ]
    }
   ],
   "source": [
    "# Columns that will be one-hot encoded\n",
    "low_cardinality_cols = [col for col in object_cols if X_train[col].nunique() < 10]\n",
    "\n",
    "# Columns that will be dropped from the dataset\n",
    "high_cardinality_cols = list(set(object_cols)-set(low_cardinality_cols))\n",
    "\n",
    "print('Categorical columns that will be one-hot encoded:', low_cardinality_cols)\n",
    "print('\\nCategorical columns that will be dropped from the dataset:', high_cardinality_cols)"
   ]
  },
  {
   "cell_type": "markdown",
   "id": "99563fe5",
   "metadata": {
    "papermill": {
     "duration": 0.006098,
     "end_time": "2025-06-04T09:00:51.667870",
     "exception": false,
     "start_time": "2025-06-04T09:00:51.661772",
     "status": "completed"
    },
    "tags": []
   },
   "source": [
    "## Step 4: One-Hot Encoding\n",
    "\n",
    "In this step, we apply one-hot encoding to the categorical columns with low cardinality (stored in `low_cardinality_cols`). \n",
    "\n",
    "- Only the columns in `low_cardinality_cols` are one-hot encoded.\n",
    "- The remaining categorical columns, including those in `high_cardinality_cols`, are dropped to avoid increasing dataset dimensionality unnecessarily.\n",
    "- The full set of categorical columns is stored in `object_cols`.\n",
    "\n",
    "The processed datasets are saved as:\n",
    "- `OH_X_train` for the training features\n",
    "- `OH_X_valid` for the validation features\n"
   ]
  },
  {
   "cell_type": "code",
   "execution_count": 15,
   "id": "81edc90b",
   "metadata": {
    "execution": {
     "iopub.execute_input": "2025-06-04T09:00:51.681954Z",
     "iopub.status.busy": "2025-06-04T09:00:51.681245Z",
     "iopub.status.idle": "2025-06-04T09:00:51.717943Z",
     "shell.execute_reply": "2025-06-04T09:00:51.717229Z"
    },
    "papermill": {
     "duration": 0.045433,
     "end_time": "2025-06-04T09:00:51.719552",
     "exception": false,
     "start_time": "2025-06-04T09:00:51.674119",
     "status": "completed"
    },
    "tags": []
   },
   "outputs": [],
   "source": [
    "from sklearn.preprocessing import OneHotEncoder\n",
    "\n",
    "# Create encoder\n",
    "OH_encoder = OneHotEncoder(handle_unknown='ignore', sparse_output=False)\n",
    "\n",
    "# Apply encoder and assign meaningful column names\n",
    "OH_cols_train = pd.DataFrame(\n",
    "    OH_encoder.fit_transform(X_train[low_cardinality_cols]),\n",
    "    columns=OH_encoder.get_feature_names_out(low_cardinality_cols),\n",
    "    index=X_train.index\n",
    ")\n",
    "\n",
    "OH_cols_valid = pd.DataFrame(\n",
    "    OH_encoder.transform(X_valid[low_cardinality_cols]),\n",
    "    columns=OH_encoder.get_feature_names_out(low_cardinality_cols),\n",
    "    index=X_valid.index\n",
    ")\n",
    "\n",
    "# Drop original categorical columns\n",
    "num_X_train = X_train.drop(columns=object_cols)\n",
    "num_X_valid = X_valid.drop(columns=object_cols)\n",
    "\n",
    "# Concatenate numerical and one-hot encoded columns\n",
    "OH_X_train = pd.concat([num_X_train, OH_cols_train], axis=1)\n",
    "OH_X_valid = pd.concat([num_X_valid, OH_cols_valid], axis=1)\n"
   ]
  },
  {
   "cell_type": "code",
   "execution_count": 16,
   "id": "f68dcbba",
   "metadata": {
    "execution": {
     "iopub.execute_input": "2025-06-04T09:00:51.733462Z",
     "iopub.status.busy": "2025-06-04T09:00:51.732774Z",
     "iopub.status.idle": "2025-06-04T09:00:51.737191Z",
     "shell.execute_reply": "2025-06-04T09:00:51.736419Z"
    },
    "papermill": {
     "duration": 0.012654,
     "end_time": "2025-06-04T09:00:51.738561",
     "exception": false,
     "start_time": "2025-06-04T09:00:51.725907",
     "status": "completed"
    },
    "tags": []
   },
   "outputs": [],
   "source": [
    "OH_X_train.columns = OH_X_train.columns.astype(str)\n",
    "OH_X_valid.columns = OH_X_valid.columns.astype(str)\n"
   ]
  },
  {
   "cell_type": "markdown",
   "id": "d644c827",
   "metadata": {
    "papermill": {
     "duration": 0.006099,
     "end_time": "2025-06-04T09:00:51.751468",
     "exception": false,
     "start_time": "2025-06-04T09:00:51.745369",
     "status": "completed"
    },
    "tags": []
   },
   "source": [
    "The MAE for this approach:"
   ]
  },
  {
   "cell_type": "code",
   "execution_count": 17,
   "id": "d4c58e60",
   "metadata": {
    "execution": {
     "iopub.execute_input": "2025-06-04T09:00:51.765880Z",
     "iopub.status.busy": "2025-06-04T09:00:51.765591Z",
     "iopub.status.idle": "2025-06-04T09:00:53.653095Z",
     "shell.execute_reply": "2025-06-04T09:00:53.652121Z"
    },
    "papermill": {
     "duration": 1.896525,
     "end_time": "2025-06-04T09:00:53.654740",
     "exception": false,
     "start_time": "2025-06-04T09:00:51.758215",
     "status": "completed"
    },
    "tags": []
   },
   "outputs": [
    {
     "name": "stdout",
     "output_type": "stream",
     "text": [
      "MAE from Approach 3 (One-Hot Encoding):\n",
      "17525.345719178084\n"
     ]
    }
   ],
   "source": [
    "print(\"MAE from Approach 3 (One-Hot Encoding):\") \n",
    "print(evaluate_model_with_mae(OH_X_train, OH_X_valid, y_train, y_valid))"
   ]
  },
  {
   "cell_type": "markdown",
   "id": "1a755835",
   "metadata": {
    "papermill": {
     "duration": 0.006145,
     "end_time": "2025-06-04T09:00:53.667378",
     "exception": false,
     "start_time": "2025-06-04T09:00:53.661233",
     "status": "completed"
    },
    "tags": []
   },
   "source": [
    "## Conclusin\n",
    "\n",
    "In this exercise adapted from the Kaggle “Handling Missing Values” competition, I applied multiple approaches to deal with missing data and categorical variables, then compared their effects on model performance using a Random Forest regressor.\n",
    "\n",
    "- Dropping categorical columns resulted in the highest mean absolute error, indicating loss of important information.\n",
    "\n",
    "- Ordinal encoding of categorical features produced the best results, suggesting the model benefited from the preserved order in categories.\n",
    "\n",
    "- One-hot encoding improved performance compared to dropping columns but did not outperform ordinal encoding in this specific case, likely due to increased feature dimensionality and potential noise.\n",
    "\n",
    "These experiments demonstrate how different preprocessing choices impact predictive accuracy. Selecting the right encoding strategy requires understanding the dataset and the trade-offs between model complexity and information retention.\n",
    "\n",
    "For future work, I plan to explore alternative encoding methods, such as target encoding, and experiment with hyperparameter tuning to enhance model performance further."
   ]
  }
 ],
 "metadata": {
  "kaggle": {
   "accelerator": "none",
   "dataSources": [
    {
     "databundleVersionId": 111096,
     "sourceId": 10211,
     "sourceType": "competition"
    }
   ],
   "isGpuEnabled": false,
   "isInternetEnabled": false,
   "language": "python",
   "sourceType": "notebook"
  },
  "kernelspec": {
   "display_name": "Python 3",
   "language": "python",
   "name": "python3"
  },
  "language_info": {
   "codemirror_mode": {
    "name": "ipython",
    "version": 3
   },
   "file_extension": ".py",
   "mimetype": "text/x-python",
   "name": "python",
   "nbconvert_exporter": "python",
   "pygments_lexer": "ipython3",
   "version": "3.11.11"
  },
  "papermill": {
   "default_parameters": {},
   "duration": 15.639295,
   "end_time": "2025-06-04T09:00:54.394197",
   "environment_variables": {},
   "exception": null,
   "input_path": "__notebook__.ipynb",
   "output_path": "__notebook__.ipynb",
   "parameters": {},
   "start_time": "2025-06-04T09:00:38.754902",
   "version": "2.6.0"
  }
 },
 "nbformat": 4,
 "nbformat_minor": 5
}
