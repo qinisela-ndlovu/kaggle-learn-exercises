{
 "cells": [
  {
   "cell_type": "markdown",
   "id": "3d19130f",
   "metadata": {
    "papermill": {
     "duration": 0.007325,
     "end_time": "2025-06-04T08:05:56.326442",
     "exception": false,
     "start_time": "2025-06-04T08:05:56.319117",
     "status": "completed"
    },
    "tags": []
   },
   "source": [
    "**This notebook is an exercise in the [Intermediate Machine Learning](https://www.kaggle.com/learn/intermediate-machine-learning) course."
   ]
  },
  {
   "cell_type": "markdown",
   "id": "c9be8def",
   "metadata": {
    "papermill": {
     "duration": 0.00654,
     "end_time": "2025-06-04T08:05:56.338980",
     "exception": false,
     "start_time": "2025-06-04T08:05:56.332440",
     "status": "completed"
    },
    "tags": []
   },
   "source": [
    "Testing knowledge of **missing values** handling. \n",
    "\n",
    "# Setup\n",
    "\n",
    "Run the following cell to set up the feedback system."
   ]
  },
  {
   "cell_type": "code",
   "execution_count": 1,
   "id": "a20480d4",
   "metadata": {
    "execution": {
     "iopub.execute_input": "2025-06-04T08:05:56.350510Z",
     "iopub.status.busy": "2025-06-04T08:05:56.350138Z",
     "iopub.status.idle": "2025-06-04T08:05:58.424758Z",
     "shell.execute_reply": "2025-06-04T08:05:58.423604Z"
    },
    "papermill": {
     "duration": 2.082533,
     "end_time": "2025-06-04T08:05:58.426717",
     "exception": false,
     "start_time": "2025-06-04T08:05:56.344184",
     "status": "completed"
    },
    "tags": []
   },
   "outputs": [
    {
     "name": "stdout",
     "output_type": "stream",
     "text": [
      "Setup Complete\n"
     ]
    }
   ],
   "source": [
    "# Set up code checking\n",
    "import os\n",
    "if not os.path.exists(\"../input/train.csv\"):\n",
    "    os.symlink(\"../input/home-data-for-ml-course/train.csv\", \"../input/train.csv\")  \n",
    "    os.symlink(\"../input/home-data-for-ml-course/test.csv\", \"../input/test.csv\") \n",
    "from learntools.core import binder\n",
    "binder.bind(globals())\n",
    "from learntools.ml_intermediate.ex2 import *\n",
    "print(\"Setup Complete\")"
   ]
  },
  {
   "cell_type": "markdown",
   "id": "f722a331",
   "metadata": {
    "papermill": {
     "duration": 0.005006,
     "end_time": "2025-06-04T08:05:58.437605",
     "exception": false,
     "start_time": "2025-06-04T08:05:58.432599",
     "status": "completed"
    },
    "tags": []
   },
   "source": [
    "In this exercise, you will work with data from the [Housing Prices Competition for Kaggle Learn Users](https://www.kaggle.com/c/home-data-for-ml-course). \n",
    "\n",
    "![Ames Housing dataset image](https://storage.googleapis.com/kaggle-media/learn/images/lTJVG4e.png)\n",
    "\n",
    "Load the training and validation sets in `X_train`, `X_valid`, `y_train`, and `y_valid`.  The test set is loaded in `X_test`."
   ]
  },
  {
   "cell_type": "code",
   "execution_count": 2,
   "id": "f91d245e",
   "metadata": {
    "execution": {
     "iopub.execute_input": "2025-06-04T08:05:58.449186Z",
     "iopub.status.busy": "2025-06-04T08:05:58.448760Z",
     "iopub.status.idle": "2025-06-04T08:06:00.373761Z",
     "shell.execute_reply": "2025-06-04T08:06:00.372718Z"
    },
    "papermill": {
     "duration": 1.932896,
     "end_time": "2025-06-04T08:06:00.375601",
     "exception": false,
     "start_time": "2025-06-04T08:05:58.442705",
     "status": "completed"
    },
    "tags": []
   },
   "outputs": [],
   "source": [
    "import pandas as pd\n",
    "from sklearn.model_selection import train_test_split\n",
    "\n",
    "# Read the data\n",
    "X_full = pd.read_csv('../input/train.csv', index_col='Id')\n",
    "X_test_full = pd.read_csv('../input/test.csv', index_col='Id')\n",
    "\n",
    "# Remove rows with missing target, separate target from predictors\n",
    "X_full.dropna(axis=0, subset=['SalePrice'], inplace=True)\n",
    "y = X_full.SalePrice\n",
    "X_full.drop(['SalePrice'], axis=1, inplace=True)\n",
    "\n",
    "# To keep things simple, we'll use only numerical predictors\n",
    "X = X_full.select_dtypes(exclude=['object'])\n",
    "X_test = X_test_full.select_dtypes(exclude=['object'])\n",
    "\n",
    "# Break off validation set from training data\n",
    "X_train, X_valid, y_train, y_valid = train_test_split(X, y, train_size=0.8, test_size=0.2,\n",
    "                                                      random_state=0)"
   ]
  },
  {
   "cell_type": "markdown",
   "id": "777cb261",
   "metadata": {
    "papermill": {
     "duration": 0.004906,
     "end_time": "2025-06-04T08:06:00.385755",
     "exception": false,
     "start_time": "2025-06-04T08:06:00.380849",
     "status": "completed"
    },
    "tags": []
   },
   "source": [
    "Use the next code cell to print the first five rows of the data."
   ]
  },
  {
   "cell_type": "code",
   "execution_count": 3,
   "id": "5be1e617",
   "metadata": {
    "execution": {
     "iopub.execute_input": "2025-06-04T08:06:00.397601Z",
     "iopub.status.busy": "2025-06-04T08:06:00.397189Z",
     "iopub.status.idle": "2025-06-04T08:06:00.429026Z",
     "shell.execute_reply": "2025-06-04T08:06:00.427781Z"
    },
    "papermill": {
     "duration": 0.040081,
     "end_time": "2025-06-04T08:06:00.430888",
     "exception": false,
     "start_time": "2025-06-04T08:06:00.390807",
     "status": "completed"
    },
    "tags": []
   },
   "outputs": [
    {
     "name": "stderr",
     "output_type": "stream",
     "text": [
      "/usr/local/lib/python3.11/dist-packages/pandas/io/formats/format.py:1458: RuntimeWarning: invalid value encountered in greater\n",
      "  has_large_values = (abs_vals > 1e6).any()\n",
      "/usr/local/lib/python3.11/dist-packages/pandas/io/formats/format.py:1459: RuntimeWarning: invalid value encountered in less\n",
      "  has_small_values = ((abs_vals < 10 ** (-self.digits)) & (abs_vals > 0)).any()\n",
      "/usr/local/lib/python3.11/dist-packages/pandas/io/formats/format.py:1459: RuntimeWarning: invalid value encountered in greater\n",
      "  has_small_values = ((abs_vals < 10 ** (-self.digits)) & (abs_vals > 0)).any()\n",
      "/usr/local/lib/python3.11/dist-packages/pandas/io/formats/format.py:1458: RuntimeWarning: invalid value encountered in greater\n",
      "  has_large_values = (abs_vals > 1e6).any()\n",
      "/usr/local/lib/python3.11/dist-packages/pandas/io/formats/format.py:1459: RuntimeWarning: invalid value encountered in less\n",
      "  has_small_values = ((abs_vals < 10 ** (-self.digits)) & (abs_vals > 0)).any()\n",
      "/usr/local/lib/python3.11/dist-packages/pandas/io/formats/format.py:1459: RuntimeWarning: invalid value encountered in greater\n",
      "  has_small_values = ((abs_vals < 10 ** (-self.digits)) & (abs_vals > 0)).any()\n"
     ]
    },
    {
     "data": {
      "text/html": [
       "<div>\n",
       "<style scoped>\n",
       "    .dataframe tbody tr th:only-of-type {\n",
       "        vertical-align: middle;\n",
       "    }\n",
       "\n",
       "    .dataframe tbody tr th {\n",
       "        vertical-align: top;\n",
       "    }\n",
       "\n",
       "    .dataframe thead th {\n",
       "        text-align: right;\n",
       "    }\n",
       "</style>\n",
       "<table border=\"1\" class=\"dataframe\">\n",
       "  <thead>\n",
       "    <tr style=\"text-align: right;\">\n",
       "      <th></th>\n",
       "      <th>MSSubClass</th>\n",
       "      <th>LotFrontage</th>\n",
       "      <th>LotArea</th>\n",
       "      <th>OverallQual</th>\n",
       "      <th>OverallCond</th>\n",
       "      <th>YearBuilt</th>\n",
       "      <th>YearRemodAdd</th>\n",
       "      <th>MasVnrArea</th>\n",
       "      <th>BsmtFinSF1</th>\n",
       "      <th>BsmtFinSF2</th>\n",
       "      <th>...</th>\n",
       "      <th>GarageArea</th>\n",
       "      <th>WoodDeckSF</th>\n",
       "      <th>OpenPorchSF</th>\n",
       "      <th>EnclosedPorch</th>\n",
       "      <th>3SsnPorch</th>\n",
       "      <th>ScreenPorch</th>\n",
       "      <th>PoolArea</th>\n",
       "      <th>MiscVal</th>\n",
       "      <th>MoSold</th>\n",
       "      <th>YrSold</th>\n",
       "    </tr>\n",
       "    <tr>\n",
       "      <th>Id</th>\n",
       "      <th></th>\n",
       "      <th></th>\n",
       "      <th></th>\n",
       "      <th></th>\n",
       "      <th></th>\n",
       "      <th></th>\n",
       "      <th></th>\n",
       "      <th></th>\n",
       "      <th></th>\n",
       "      <th></th>\n",
       "      <th></th>\n",
       "      <th></th>\n",
       "      <th></th>\n",
       "      <th></th>\n",
       "      <th></th>\n",
       "      <th></th>\n",
       "      <th></th>\n",
       "      <th></th>\n",
       "      <th></th>\n",
       "      <th></th>\n",
       "      <th></th>\n",
       "    </tr>\n",
       "  </thead>\n",
       "  <tbody>\n",
       "    <tr>\n",
       "      <th>619</th>\n",
       "      <td>20</td>\n",
       "      <td>90.0</td>\n",
       "      <td>11694</td>\n",
       "      <td>9</td>\n",
       "      <td>5</td>\n",
       "      <td>2007</td>\n",
       "      <td>2007</td>\n",
       "      <td>452.0</td>\n",
       "      <td>48</td>\n",
       "      <td>0</td>\n",
       "      <td>...</td>\n",
       "      <td>774</td>\n",
       "      <td>0</td>\n",
       "      <td>108</td>\n",
       "      <td>0</td>\n",
       "      <td>0</td>\n",
       "      <td>260</td>\n",
       "      <td>0</td>\n",
       "      <td>0</td>\n",
       "      <td>7</td>\n",
       "      <td>2007</td>\n",
       "    </tr>\n",
       "    <tr>\n",
       "      <th>871</th>\n",
       "      <td>20</td>\n",
       "      <td>60.0</td>\n",
       "      <td>6600</td>\n",
       "      <td>5</td>\n",
       "      <td>5</td>\n",
       "      <td>1962</td>\n",
       "      <td>1962</td>\n",
       "      <td>0.0</td>\n",
       "      <td>0</td>\n",
       "      <td>0</td>\n",
       "      <td>...</td>\n",
       "      <td>308</td>\n",
       "      <td>0</td>\n",
       "      <td>0</td>\n",
       "      <td>0</td>\n",
       "      <td>0</td>\n",
       "      <td>0</td>\n",
       "      <td>0</td>\n",
       "      <td>0</td>\n",
       "      <td>8</td>\n",
       "      <td>2009</td>\n",
       "    </tr>\n",
       "    <tr>\n",
       "      <th>93</th>\n",
       "      <td>30</td>\n",
       "      <td>80.0</td>\n",
       "      <td>13360</td>\n",
       "      <td>5</td>\n",
       "      <td>7</td>\n",
       "      <td>1921</td>\n",
       "      <td>2006</td>\n",
       "      <td>0.0</td>\n",
       "      <td>713</td>\n",
       "      <td>0</td>\n",
       "      <td>...</td>\n",
       "      <td>432</td>\n",
       "      <td>0</td>\n",
       "      <td>0</td>\n",
       "      <td>44</td>\n",
       "      <td>0</td>\n",
       "      <td>0</td>\n",
       "      <td>0</td>\n",
       "      <td>0</td>\n",
       "      <td>8</td>\n",
       "      <td>2009</td>\n",
       "    </tr>\n",
       "    <tr>\n",
       "      <th>818</th>\n",
       "      <td>20</td>\n",
       "      <td>NaN</td>\n",
       "      <td>13265</td>\n",
       "      <td>8</td>\n",
       "      <td>5</td>\n",
       "      <td>2002</td>\n",
       "      <td>2002</td>\n",
       "      <td>148.0</td>\n",
       "      <td>1218</td>\n",
       "      <td>0</td>\n",
       "      <td>...</td>\n",
       "      <td>857</td>\n",
       "      <td>150</td>\n",
       "      <td>59</td>\n",
       "      <td>0</td>\n",
       "      <td>0</td>\n",
       "      <td>0</td>\n",
       "      <td>0</td>\n",
       "      <td>0</td>\n",
       "      <td>7</td>\n",
       "      <td>2008</td>\n",
       "    </tr>\n",
       "    <tr>\n",
       "      <th>303</th>\n",
       "      <td>20</td>\n",
       "      <td>118.0</td>\n",
       "      <td>13704</td>\n",
       "      <td>7</td>\n",
       "      <td>5</td>\n",
       "      <td>2001</td>\n",
       "      <td>2002</td>\n",
       "      <td>150.0</td>\n",
       "      <td>0</td>\n",
       "      <td>0</td>\n",
       "      <td>...</td>\n",
       "      <td>843</td>\n",
       "      <td>468</td>\n",
       "      <td>81</td>\n",
       "      <td>0</td>\n",
       "      <td>0</td>\n",
       "      <td>0</td>\n",
       "      <td>0</td>\n",
       "      <td>0</td>\n",
       "      <td>1</td>\n",
       "      <td>2006</td>\n",
       "    </tr>\n",
       "  </tbody>\n",
       "</table>\n",
       "<p>5 rows × 36 columns</p>\n",
       "</div>"
      ],
      "text/plain": [
       "     MSSubClass  LotFrontage  LotArea  OverallQual  OverallCond  YearBuilt  \\\n",
       "Id                                                                           \n",
       "619          20         90.0    11694            9            5       2007   \n",
       "871          20         60.0     6600            5            5       1962   \n",
       "93           30         80.0    13360            5            7       1921   \n",
       "818          20          NaN    13265            8            5       2002   \n",
       "303          20        118.0    13704            7            5       2001   \n",
       "\n",
       "     YearRemodAdd  MasVnrArea  BsmtFinSF1  BsmtFinSF2  ...  GarageArea  \\\n",
       "Id                                                     ...               \n",
       "619          2007       452.0          48           0  ...         774   \n",
       "871          1962         0.0           0           0  ...         308   \n",
       "93           2006         0.0         713           0  ...         432   \n",
       "818          2002       148.0        1218           0  ...         857   \n",
       "303          2002       150.0           0           0  ...         843   \n",
       "\n",
       "     WoodDeckSF  OpenPorchSF  EnclosedPorch  3SsnPorch  ScreenPorch  PoolArea  \\\n",
       "Id                                                                              \n",
       "619           0          108              0          0          260         0   \n",
       "871           0            0              0          0            0         0   \n",
       "93            0            0             44          0            0         0   \n",
       "818         150           59              0          0            0         0   \n",
       "303         468           81              0          0            0         0   \n",
       "\n",
       "     MiscVal  MoSold  YrSold  \n",
       "Id                            \n",
       "619        0       7    2007  \n",
       "871        0       8    2009  \n",
       "93         0       8    2009  \n",
       "818        0       7    2008  \n",
       "303        0       1    2006  \n",
       "\n",
       "[5 rows x 36 columns]"
      ]
     },
     "execution_count": 3,
     "metadata": {},
     "output_type": "execute_result"
    }
   ],
   "source": [
    "X_train.head()"
   ]
  },
  {
   "cell_type": "code",
   "execution_count": 4,
   "id": "7722253c",
   "metadata": {
    "execution": {
     "iopub.execute_input": "2025-06-04T08:06:00.443877Z",
     "iopub.status.busy": "2025-06-04T08:06:00.443039Z",
     "iopub.status.idle": "2025-06-04T08:06:00.451552Z",
     "shell.execute_reply": "2025-06-04T08:06:00.450408Z"
    },
    "papermill": {
     "duration": 0.016404,
     "end_time": "2025-06-04T08:06:00.452990",
     "exception": false,
     "start_time": "2025-06-04T08:06:00.436586",
     "status": "completed"
    },
    "tags": []
   },
   "outputs": [
    {
     "data": {
      "text/plain": [
       "MSSubClass         0\n",
       "LotFrontage      212\n",
       "LotArea            0\n",
       "OverallQual        0\n",
       "OverallCond        0\n",
       "YearBuilt          0\n",
       "YearRemodAdd       0\n",
       "MasVnrArea         6\n",
       "BsmtFinSF1         0\n",
       "BsmtFinSF2         0\n",
       "BsmtUnfSF          0\n",
       "TotalBsmtSF        0\n",
       "1stFlrSF           0\n",
       "2ndFlrSF           0\n",
       "LowQualFinSF       0\n",
       "GrLivArea          0\n",
       "BsmtFullBath       0\n",
       "BsmtHalfBath       0\n",
       "FullBath           0\n",
       "HalfBath           0\n",
       "BedroomAbvGr       0\n",
       "KitchenAbvGr       0\n",
       "TotRmsAbvGrd       0\n",
       "Fireplaces         0\n",
       "GarageYrBlt       58\n",
       "GarageCars         0\n",
       "GarageArea         0\n",
       "WoodDeckSF         0\n",
       "OpenPorchSF        0\n",
       "EnclosedPorch      0\n",
       "3SsnPorch          0\n",
       "ScreenPorch        0\n",
       "PoolArea           0\n",
       "MiscVal            0\n",
       "MoSold             0\n",
       "YrSold             0\n",
       "dtype: int64"
      ]
     },
     "execution_count": 4,
     "metadata": {},
     "output_type": "execute_result"
    }
   ],
   "source": [
    "# Count missing values per columns\n",
    "X_train.isnull().sum()"
   ]
  },
  {
   "cell_type": "markdown",
   "id": "307a73d9",
   "metadata": {
    "papermill": {
     "duration": 0.005203,
     "end_time": "2025-06-04T08:06:00.463966",
     "exception": false,
     "start_time": "2025-06-04T08:06:00.458763",
     "status": "completed"
    },
    "tags": []
   },
   "source": [
    "There are few missing values in the several rows. "
   ]
  },
  {
   "cell_type": "code",
   "execution_count": 5,
   "id": "3d5fbe65",
   "metadata": {
    "execution": {
     "iopub.execute_input": "2025-06-04T08:06:00.476756Z",
     "iopub.status.busy": "2025-06-04T08:06:00.476446Z",
     "iopub.status.idle": "2025-06-04T08:06:00.483600Z",
     "shell.execute_reply": "2025-06-04T08:06:00.482367Z"
    },
    "papermill": {
     "duration": 0.015101,
     "end_time": "2025-06-04T08:06:00.485194",
     "exception": false,
     "start_time": "2025-06-04T08:06:00.470093",
     "status": "completed"
    },
    "tags": []
   },
   "outputs": [
    {
     "name": "stdout",
     "output_type": "stream",
     "text": [
      "(1168, 36)\n",
      "LotFrontage    212\n",
      "MasVnrArea       6\n",
      "GarageYrBlt     58\n",
      "dtype: int64\n"
     ]
    }
   ],
   "source": [
    "# Shape of training data (num_rows, num_columns)\n",
    "print(X_train.shape)\n",
    "\n",
    "# Number of missing values in each column of training data\n",
    "missing_val_count_by_column = (X_train.isnull().sum())\n",
    "print(missing_val_count_by_column[missing_val_count_by_column > 0])"
   ]
  },
  {
   "cell_type": "markdown",
   "id": "ea27f801",
   "metadata": {
    "papermill": {
     "duration": 0.005357,
     "end_time": "2025-06-04T08:06:00.496244",
     "exception": false,
     "start_time": "2025-06-04T08:06:00.490887",
     "status": "completed"
    },
    "tags": []
   },
   "source": [
    "### Part A\n",
    "\n",
    "Use above output to fill the answers below"
   ]
  },
  {
   "cell_type": "code",
   "execution_count": 6,
   "id": "02f5d0bf",
   "metadata": {
    "execution": {
     "iopub.execute_input": "2025-06-04T08:06:00.509247Z",
     "iopub.status.busy": "2025-06-04T08:06:00.508955Z",
     "iopub.status.idle": "2025-06-04T08:06:00.514695Z",
     "shell.execute_reply": "2025-06-04T08:06:00.513380Z"
    },
    "papermill": {
     "duration": 0.014129,
     "end_time": "2025-06-04T08:06:00.516484",
     "exception": false,
     "start_time": "2025-06-04T08:06:00.502355",
     "status": "completed"
    },
    "tags": []
   },
   "outputs": [
    {
     "name": "stdout",
     "output_type": "stream",
     "text": [
      "Rows: 1168, Columns with missing: 3, Total missing: 276\n"
     ]
    }
   ],
   "source": [
    "# Number of rows in the training data\n",
    "num_rows = 1168\n",
    "\n",
    "# Number of columns with missing values\n",
    "num_cols_with_missing = 3\n",
    "\n",
    "# Total number of missing entries in the training data\n",
    "tot_missing = 276\n",
    "\n",
    "print(f\"Rows: {num_rows}, Columns with missing: {num_cols_with_missing}, Total missing: {tot_missing}\")\n"
   ]
  },
  {
   "cell_type": "markdown",
   "id": "0e33f88b",
   "metadata": {
    "papermill": {
     "duration": 0.005875,
     "end_time": "2025-06-04T08:06:00.528360",
     "exception": false,
     "start_time": "2025-06-04T08:06:00.522485",
     "status": "completed"
    },
    "tags": []
   },
   "source": [
    "Based on the dataset:\n",
    "- There are 1168 rows.\n",
    "- 3 columns contain missing values.\n",
    "- There are 276 total missing entries across the dataset.\n"
   ]
  },
  {
   "cell_type": "markdown",
   "id": "21ee5bf2",
   "metadata": {
    "papermill": {
     "duration": 0.00549,
     "end_time": "2025-06-04T08:06:00.539632",
     "exception": false,
     "start_time": "2025-06-04T08:06:00.534142",
     "status": "completed"
    },
    "tags": []
   },
   "source": [
    "### Part B\n",
    "Looking at ouput above, what is likely the best approach to dealing with the missing values?"
   ]
  },
  {
   "cell_type": "markdown",
   "id": "69980660",
   "metadata": {
    "papermill": {
     "duration": 0.005399,
     "end_time": "2025-06-04T08:06:00.550586",
     "exception": false,
     "start_time": "2025-06-04T08:06:00.545187",
     "status": "completed"
    },
    "tags": []
   },
   "source": [
    "Since there are relatively few missing entries in the data,we can expect droppping columns is unlikely to yield good results. This is because we'd be throwing away a lot of valuable data,so imputation will likely perform better."
   ]
  },
  {
   "cell_type": "markdown",
   "id": "4ee015e0",
   "metadata": {
    "papermill": {
     "duration": 0.005477,
     "end_time": "2025-06-04T08:06:00.561886",
     "exception": false,
     "start_time": "2025-06-04T08:06:00.556409",
     "status": "completed"
    },
    "tags": []
   },
   "source": [
    "To compare different approaches to dealing with missing values, you'll use the same `score_dataset()` function.  This function reports the [mean absolute error](https://en.wikipedia.org/wiki/Mean_absolute_error) (MAE) from a random forest model."
   ]
  },
  {
   "cell_type": "code",
   "execution_count": 7,
   "id": "515e48e8",
   "metadata": {
    "execution": {
     "iopub.execute_input": "2025-06-04T08:06:00.574372Z",
     "iopub.status.busy": "2025-06-04T08:06:00.573946Z",
     "iopub.status.idle": "2025-06-04T08:06:01.033038Z",
     "shell.execute_reply": "2025-06-04T08:06:01.032187Z"
    },
    "papermill": {
     "duration": 0.467428,
     "end_time": "2025-06-04T08:06:01.034826",
     "exception": false,
     "start_time": "2025-06-04T08:06:00.567398",
     "status": "completed"
    },
    "tags": []
   },
   "outputs": [],
   "source": [
    "from sklearn.ensemble import RandomForestRegressor\n",
    "from sklearn.metrics import mean_absolute_error\n",
    "\n",
    "def evaluate_model_with_mae(X_train, X_valid, y_train, y_valid):\n",
    "    \"\"\"\n",
    "    Trains a RandomForestRegressor and evaluates its performance using Mean Absolute Error (MAE).\n",
    "\n",
    "    Parameters:\n",
    "    - X_train, X_valid: Feature sets for training and validation\n",
    "    - y_train, y_valid: Target values for training and validation\n",
    "\n",
    "    Returns:\n",
    "    - MAE score for the validation predictions\n",
    "    \"\"\"\n",
    "    model = RandomForestRegressor(n_estimators=100, random_state=0)\n",
    "    model.fit(X_train, y_train)\n",
    "    preds = model.predict(X_valid)\n",
    "    return mean_absolute_error(y_valid, preds)\n"
   ]
  },
  {
   "cell_type": "markdown",
   "id": "121238e0",
   "metadata": {
    "papermill": {
     "duration": 0.005511,
     "end_time": "2025-06-04T08:06:01.046841",
     "exception": false,
     "start_time": "2025-06-04T08:06:01.041330",
     "status": "completed"
    },
    "tags": []
   },
   "source": [
    "Drop columns with missing values\n",
    "\n",
    "Preprocess the data in `X_train` and `X_valid` to remove columns with missing values.  Set the preprocessed DataFrames to `reduced_X_train` and `reduced_X_valid`, respectively.  "
   ]
  },
  {
   "cell_type": "code",
   "execution_count": 8,
   "id": "4c5667cc",
   "metadata": {
    "execution": {
     "iopub.execute_input": "2025-06-04T08:06:01.059775Z",
     "iopub.status.busy": "2025-06-04T08:06:01.059356Z",
     "iopub.status.idle": "2025-06-04T08:06:01.073718Z",
     "shell.execute_reply": "2025-06-04T08:06:01.072567Z"
    },
    "papermill": {
     "duration": 0.022927,
     "end_time": "2025-06-04T08:06:01.075625",
     "exception": false,
     "start_time": "2025-06-04T08:06:01.052698",
     "status": "completed"
    },
    "tags": []
   },
   "outputs": [],
   "source": [
    "# Fill in the line below: get names of columns with missing values\n",
    "''''col_with_missing_values = [col for col in X_train.columns\n",
    "                            if col in X_train[col].isnull().any()] \n",
    "'''\n",
    "col_with_missing_values = [col for col in X_train.columns if X_train[col].isnull().any()]\n",
    "\n",
    "\n",
    "\n",
    "# Fill in the lines below: drop columns in training and validation data\n",
    "reduced_X_train = X_train.drop(columns=col_with_missing_values)\n",
    "reduced_X_valid = X_valid.drop(columns=col_with_missing_values)"
   ]
  },
  {
   "cell_type": "markdown",
   "id": "c1b3073a",
   "metadata": {
    "papermill": {
     "duration": 0.005582,
     "end_time": "2025-06-04T08:06:01.086953",
     "exception": false,
     "start_time": "2025-06-04T08:06:01.081371",
     "status": "completed"
    },
    "tags": []
   },
   "source": [
    "Get the MAE for this approach."
   ]
  },
  {
   "cell_type": "code",
   "execution_count": 9,
   "id": "929c6397",
   "metadata": {
    "execution": {
     "iopub.execute_input": "2025-06-04T08:06:01.099780Z",
     "iopub.status.busy": "2025-06-04T08:06:01.099437Z",
     "iopub.status.idle": "2025-06-04T08:06:02.334735Z",
     "shell.execute_reply": "2025-06-04T08:06:02.333707Z"
    },
    "papermill": {
     "duration": 1.243395,
     "end_time": "2025-06-04T08:06:02.336173",
     "exception": false,
     "start_time": "2025-06-04T08:06:01.092778",
     "status": "completed"
    },
    "tags": []
   },
   "outputs": [
    {
     "name": "stdout",
     "output_type": "stream",
     "text": [
      "MAE (Drop columns with missing values):\n",
      "17837.82570776256\n"
     ]
    }
   ],
   "source": [
    "print(\"MAE (Drop columns with missing values):\")\n",
    "print(evaluate_model_with_mae(reduced_X_train, reduced_X_valid, y_train, y_valid))"
   ]
  },
  {
   "cell_type": "markdown",
   "id": "b8bdd5f1",
   "metadata": {
    "papermill": {
     "duration": 0.005554,
     "end_time": "2025-06-04T08:06:02.347817",
     "exception": false,
     "start_time": "2025-06-04T08:06:02.342263",
     "status": "completed"
    },
    "tags": []
   },
   "source": [
    "Imputation\n",
    "\n",
    "### Part A\n",
    "\n",
    "Impute missing values with the mean value along each column.  Set the preprocessed DataFrames to `imputed_X_train` and `imputed_X_valid`.  Make sure that the column names match those in `X_train` and `X_valid`."
   ]
  },
  {
   "cell_type": "code",
   "execution_count": 10,
   "id": "1ce2fe4c",
   "metadata": {
    "execution": {
     "iopub.execute_input": "2025-06-04T08:06:02.363514Z",
     "iopub.status.busy": "2025-06-04T08:06:02.363160Z",
     "iopub.status.idle": "2025-06-04T08:06:02.389679Z",
     "shell.execute_reply": "2025-06-04T08:06:02.388733Z"
    },
    "papermill": {
     "duration": 0.037439,
     "end_time": "2025-06-04T08:06:02.391386",
     "exception": false,
     "start_time": "2025-06-04T08:06:02.353947",
     "status": "completed"
    },
    "tags": []
   },
   "outputs": [],
   "source": [
    "from sklearn.impute import SimpleImputer\n",
    "\n",
    "# Fill in the lines below: imputation\n",
    "imputer = SimpleImputer()\n",
    "imputed_X_train = pd.DataFrame(imputer.fit_transform(X_train))\n",
    "imputed_X_valid = pd.DataFrame(imputer.transform(X_valid))\n",
    "\n",
    "# Fill in the lines below: imputation removed column names; put them back\n",
    "imputed_X_train.columns = X_train.columns\n",
    "imputed_X_valid.columns = X_valid.columns\n"
   ]
  },
  {
   "cell_type": "markdown",
   "id": "20434e47",
   "metadata": {
    "papermill": {
     "duration": 0.005877,
     "end_time": "2025-06-04T08:06:02.403833",
     "exception": false,
     "start_time": "2025-06-04T08:06:02.397956",
     "status": "completed"
    },
    "tags": []
   },
   "source": [
    "Run the next code cell without changes to obtain the MAE for this approach."
   ]
  },
  {
   "cell_type": "code",
   "execution_count": 11,
   "id": "014d9b33",
   "metadata": {
    "execution": {
     "iopub.execute_input": "2025-06-04T08:06:02.416719Z",
     "iopub.status.busy": "2025-06-04T08:06:02.416418Z",
     "iopub.status.idle": "2025-06-04T08:06:03.803457Z",
     "shell.execute_reply": "2025-06-04T08:06:03.802362Z"
    },
    "papermill": {
     "duration": 1.395407,
     "end_time": "2025-06-04T08:06:03.805093",
     "exception": false,
     "start_time": "2025-06-04T08:06:02.409686",
     "status": "completed"
    },
    "tags": []
   },
   "outputs": [
    {
     "name": "stdout",
     "output_type": "stream",
     "text": [
      "MAE (Imputation):\n",
      "18062.894611872147\n"
     ]
    }
   ],
   "source": [
    "print(\"MAE (Imputation):\")\n",
    "print(evaluate_model_with_mae(imputed_X_train, imputed_X_valid, y_train, y_valid))"
   ]
  },
  {
   "cell_type": "markdown",
   "id": "7a892993",
   "metadata": {
    "papermill": {
     "duration": 0.005759,
     "end_time": "2025-06-04T08:06:03.817149",
     "exception": false,
     "start_time": "2025-06-04T08:06:03.811390",
     "status": "completed"
    },
    "tags": []
   },
   "source": [
    "### Part B\n",
    "\n",
    "Compare the MAE from each approach.  Does anything surprise you about the results?  Why do you think one approach performed better than the other?"
   ]
  },
  {
   "cell_type": "markdown",
   "id": "e0fee1fe",
   "metadata": {
    "papermill": {
     "duration": 0.005622,
     "end_time": "2025-06-04T08:06:03.828644",
     "exception": false,
     "start_time": "2025-06-04T08:06:03.823022",
     "status": "completed"
    },
    "tags": []
   },
   "source": [
    "### Observations on Imputation vs Column Dropping\n",
    "\n",
    "In this dataset, dropping columns with missing values slightly outperformed imputation using the mean. This result was somewhat surprising given the small number of missing entries.\n",
    "\n",
    "One explanation could be that the imputation method (mean) isn't well-suited to the nature of the data. For example, `GarageYrBlt` might be missing because some houses lack garages entirely. In such cases, the median or a domain-specific placeholder might make more sense than the mean.\n",
    "\n",
    "_Adapted from discussion in the Kaggle \"Handling Missing Values\" exercise._\n"
   ]
  },
  {
   "cell_type": "markdown",
   "id": "6d61ec57",
   "metadata": {
    "papermill": {
     "duration": 0.005537,
     "end_time": "2025-06-04T08:06:03.840220",
     "exception": false,
     "start_time": "2025-06-04T08:06:03.834683",
     "status": "completed"
    },
    "tags": []
   },
   "source": [
    "Generate Test Predictions\n",
    "\n",
    "In this step, missing values are handled using a chosen preprocessing strategy. The preprocessed training and validation features are stored in `final_X_train` and `final_X_valid`.\n",
    "\n",
    "Requirements:\n",
    "- Both feature sets should have the same columns and no missing values.\n",
    "- `final_X_train` and `y_train` must have matching row counts.\n",
    "- `final_X_valid` and `y_valid` must also have matching row counts.\n",
    "\n",
    "Once preprocessing is complete, a Random Forest model will be trained and evaluated. Finally, the same preprocessing will be applied to the test data for generating predictions.\n"
   ]
  },
  {
   "cell_type": "code",
   "execution_count": 12,
   "id": "f7e12722",
   "metadata": {
    "execution": {
     "iopub.execute_input": "2025-06-04T08:06:03.853160Z",
     "iopub.status.busy": "2025-06-04T08:06:03.852869Z",
     "iopub.status.idle": "2025-06-04T08:06:03.866809Z",
     "shell.execute_reply": "2025-06-04T08:06:03.865915Z"
    },
    "papermill": {
     "duration": 0.022683,
     "end_time": "2025-06-04T08:06:03.868658",
     "exception": false,
     "start_time": "2025-06-04T08:06:03.845975",
     "status": "completed"
    },
    "tags": []
   },
   "outputs": [],
   "source": [
    "# Preprocessed training and validation features\n",
    "my_imputer = SimpleImputer()\n",
    "final_X_train = pd.DataFrame(my_imputer.fit_transform(X_train))\n",
    "final_X_valid = pd.DataFrame(my_imputer.transform(X_valid))\n",
    "\n",
    "#Ensure the num of columns is the same\n",
    "final_X_train.columns = X_train.columns\n",
    "final_X_valid.columns = X_valid.columns\n",
    "\n",
    "#ensure final_X_train and y_train have the same number of rows, and final_X_valid and y_valid same thing\n",
    "assert final_X_train.shape[0] == y_train.shape[0], \"Mismatch\"\n",
    "assert final_X_valid.shape[0] == y_valid.shape[0], \"Mismatch\""
   ]
  },
  {
   "cell_type": "markdown",
   "id": "95acf327",
   "metadata": {
    "papermill": {
     "duration": 0.005592,
     "end_time": "2025-06-04T08:06:03.880233",
     "exception": false,
     "start_time": "2025-06-04T08:06:03.874641",
     "status": "completed"
    },
    "tags": []
   },
   "source": [
    "Train and evaluate a random forest model.  (*Note that we don't use the `evaluate_model_with_mae` function above, because we will soon use the trained model to generate test predictions!*)"
   ]
  },
  {
   "cell_type": "code",
   "execution_count": 13,
   "id": "0ec9c1f9",
   "metadata": {
    "execution": {
     "iopub.execute_input": "2025-06-04T08:06:03.893852Z",
     "iopub.status.busy": "2025-06-04T08:06:03.893480Z",
     "iopub.status.idle": "2025-06-04T08:06:05.251230Z",
     "shell.execute_reply": "2025-06-04T08:06:05.250143Z"
    },
    "papermill": {
     "duration": 1.36672,
     "end_time": "2025-06-04T08:06:05.253006",
     "exception": false,
     "start_time": "2025-06-04T08:06:03.886286",
     "status": "completed"
    },
    "tags": []
   },
   "outputs": [
    {
     "name": "stdout",
     "output_type": "stream",
     "text": [
      "MAE (My approach):\n",
      "18062.894611872147\n"
     ]
    }
   ],
   "source": [
    "# Define and fit model\n",
    "model = RandomForestRegressor(n_estimators=100, random_state=0)\n",
    "model.fit(final_X_train, y_train)\n",
    "\n",
    "# Get validation predictions and MAE\n",
    "preds_valid = model.predict(final_X_valid)\n",
    "print(\"MAE (My approach):\")\n",
    "print(mean_absolute_error(y_valid, preds_valid))"
   ]
  },
  {
   "cell_type": "markdown",
   "id": "486ce844",
   "metadata": {
    "papermill": {
     "duration": 0.005841,
     "end_time": "2025-06-04T08:06:05.264936",
     "exception": false,
     "start_time": "2025-06-04T08:06:05.259095",
     "status": "completed"
    },
    "tags": []
   },
   "source": [
    "### Part B: Preprocess Test Data and Generate Predictions\n",
    "\n",
    "The test data is preprocessed using the same method applied to the training and validation sets. The resulting DataFrame is stored in `final_X_test`.\n",
    "\n",
    "After preprocessing, the trained model is used to predict target values for the test data, with predictions stored in `preds_test`.\n",
    "\n",
    "Key requirements:\n",
    "- `final_X_test` should have no missing values.\n",
    "- `final_X_test` must have the same number of rows as the original `X_test`.\n"
   ]
  },
  {
   "cell_type": "code",
   "execution_count": 14,
   "id": "4277924e",
   "metadata": {
    "execution": {
     "iopub.execute_input": "2025-06-04T08:06:05.278077Z",
     "iopub.status.busy": "2025-06-04T08:06:05.277745Z",
     "iopub.status.idle": "2025-06-04T08:06:05.315545Z",
     "shell.execute_reply": "2025-06-04T08:06:05.314643Z"
    },
    "papermill": {
     "duration": 0.046537,
     "end_time": "2025-06-04T08:06:05.317298",
     "exception": false,
     "start_time": "2025-06-04T08:06:05.270761",
     "status": "completed"
    },
    "tags": []
   },
   "outputs": [],
   "source": [
    "# Fill in the line below: preprocess test data\n",
    "test_imputer = SimpleImputer()\n",
    "final_X_test = pd.DataFrame(test_imputer.fit_transform(X_test), columns=X_test.columns)\n",
    "\n",
    "#ensure inal_X_test has the same number of rows as X_test.\n",
    "assert final_X_test.shape[0] == X_test.shape[0],\"Row num mismatch\"\n",
    "\n",
    "# Fill in the line below: get test predictions\n",
    "preds_test = model.predict(final_X_test)"
   ]
  },
  {
   "cell_type": "markdown",
   "id": "ecd049e2",
   "metadata": {
    "papermill": {
     "duration": 0.005812,
     "end_time": "2025-06-04T08:06:05.329408",
     "exception": false,
     "start_time": "2025-06-04T08:06:05.323596",
     "status": "completed"
    },
    "tags": []
   },
   "source": [
    "### Save Predictions to CSV\n",
    "\n",
    "This code exports the test predictions to a CSV file formatted for submission to the competition.\n"
   ]
  },
  {
   "cell_type": "code",
   "execution_count": 15,
   "id": "69d1c086",
   "metadata": {
    "execution": {
     "iopub.execute_input": "2025-06-04T08:06:05.342904Z",
     "iopub.status.busy": "2025-06-04T08:06:05.342578Z",
     "iopub.status.idle": "2025-06-04T08:06:05.356114Z",
     "shell.execute_reply": "2025-06-04T08:06:05.355115Z"
    },
    "papermill": {
     "duration": 0.022576,
     "end_time": "2025-06-04T08:06:05.357944",
     "exception": false,
     "start_time": "2025-06-04T08:06:05.335368",
     "status": "completed"
    },
    "tags": []
   },
   "outputs": [],
   "source": [
    "# Save test predictions to file\n",
    "output = pd.DataFrame({'Id': X_test.index,\n",
    "                       'SalePrice': preds_test})\n",
    "output.to_csv('submission.csv', index=False)"
   ]
  }
 ],
 "metadata": {
  "kaggle": {
   "accelerator": "none",
   "dataSources": [
    {
     "databundleVersionId": 111096,
     "sourceId": 10211,
     "sourceType": "competition"
    }
   ],
   "isGpuEnabled": false,
   "isInternetEnabled": false,
   "language": "python",
   "sourceType": "notebook"
  },
  "kernelspec": {
   "display_name": "Python 3",
   "language": "python",
   "name": "python3"
  },
  "language_info": {
   "codemirror_mode": {
    "name": "ipython",
    "version": 3
   },
   "file_extension": ".py",
   "mimetype": "text/x-python",
   "name": "python",
   "nbconvert_exporter": "python",
   "pygments_lexer": "ipython3",
   "version": "3.11.11"
  },
  "papermill": {
   "default_parameters": {},
   "duration": 14.894148,
   "end_time": "2025-06-04T08:06:06.086191",
   "environment_variables": {},
   "exception": null,
   "input_path": "__notebook__.ipynb",
   "output_path": "__notebook__.ipynb",
   "parameters": {},
   "start_time": "2025-06-04T08:05:51.192043",
   "version": "2.6.0"
  }
 },
 "nbformat": 4,
 "nbformat_minor": 5
}
